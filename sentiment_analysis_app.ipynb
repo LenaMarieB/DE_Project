{
 "cells": [
  {
   "cell_type": "markdown",
   "metadata": {},
   "source": [
    "# Sentiment Analysis Application"
   ]
  },
  {
   "cell_type": "markdown",
   "metadata": {},
   "source": []
  },
  {
   "cell_type": "markdown",
   "metadata": {},
   "source": [
    "## importation"
   ]
  },
  {
   "cell_type": "code",
   "execution_count": 8,
   "metadata": {},
   "outputs": [
    {
     "name": "stdout",
     "output_type": "stream",
     "text": [
      "Requirement already satisfied: nltk in c:\\users\\b_lyd\\anaconda\\lib\\site-packages (3.5)\n",
      "Requirement already satisfied: tqdm in c:\\users\\b_lyd\\anaconda\\lib\\site-packages (from nltk) (4.50.2)\n",
      "Requirement already satisfied: joblib in c:\\users\\b_lyd\\anaconda\\lib\\site-packages (from nltk) (0.17.0)\n",
      "Requirement already satisfied: click in c:\\users\\b_lyd\\anaconda\\lib\\site-packages (from nltk) (7.1.2)Note: you may need to restart the kernel to use updated packages.\n",
      "Requirement already satisfied: regex in c:\\users\\b_lyd\\anaconda\\lib\\site-packages (from nltk) (2020.10.15)\n",
      "\n"
     ]
    }
   ],
   "source": [
    "pip install nltk"
   ]
  },
  {
   "cell_type": "code",
   "execution_count": 32,
   "metadata": {},
   "outputs": [],
   "source": [
    "import nltk\n",
    "\n",
    "from nltk.tokenize import sent_tokenize\n",
    "from nltk.tokenize import word_tokenize\n",
    "\n",
    "from nltk.stem import WordNetLemmatizer \n",
    "from nltk.corpus import stopwords\n",
    "from nltk.corpus import wordnet as wn\n",
    "from collections import defaultdict"
   ]
  },
  {
   "cell_type": "code",
   "execution_count": 19,
   "metadata": {},
   "outputs": [],
   "source": [
    "# Here you have to collect the sentence entered by the user\n",
    "\n",
    "#for exemple\n",
    "input = \"I feel good today. I'm smiling.\""
   ]
  },
  {
   "cell_type": "code",
   "execution_count": null,
   "metadata": {},
   "outputs": [],
   "source": []
  },
  {
   "cell_type": "code",
   "execution_count": 20,
   "metadata": {},
   "outputs": [],
   "source": [
    "#tokenize sentences : split input sentence into words\n",
    "\n",
    "def sent_tokenized (stc):\n",
    "    data_clean_sent_tokenized = sent_tokenize(stc)\n",
    "    data_clean_word_sent_tokenized = [word_tokenize(sentence) for sentence in data_clean_sent_tokenized]\n",
    "    return data_clean_word_sent_tokenized"
   ]
  },
  {
   "cell_type": "code",
   "execution_count": 28,
   "metadata": {},
   "outputs": [
    {
     "name": "stdout",
     "output_type": "stream",
     "text": [
      "[['I', 'feel', 'good', 'today', '.'], ['I', \"'m\", 'smiling', '.']]\n"
     ]
    }
   ],
   "source": [
    "#print the tokenized input sentence\n",
    "stc_token = sent_tokenized(input)\n",
    "print(stc_token)"
   ]
  },
  {
   "cell_type": "code",
   "execution_count": 30,
   "metadata": {},
   "outputs": [
    {
     "name": "stdout",
     "output_type": "stream",
     "text": [
      "[['i', 'feel', 'good', 'today', '.'], ['i', \"'m\", 'smiling', '.']]\n"
     ]
    }
   ],
   "source": [
    "#lower text\n",
    "stc_token_lower=[]\n",
    "for i in range(len(stc_token)):\n",
    "    stc_token_lower.append([word.lower() for word in stc_token[i]])\n",
    "print(stc_token_lower)"
   ]
  },
  {
   "cell_type": "code",
   "execution_count": 36,
   "metadata": {},
   "outputs": [],
   "source": [
    "tag_map = defaultdict(lambda: wn.NOUN)\n",
    "tag_map['J'] = wn.ADJ\n",
    "tag_map['V'] = wn.VERB\n",
    "tag_map['R'] = wn.ADV\n",
    "\n",
    "stopWords = stopwords.words('english')\n",
    "word_lemmatizer = WordNetLemmatizer()\n",
    "\n",
    "#Lemmatize : etablish relationships between words\n",
    "final_sent = []\n",
    "for sent in stc_token:\n",
    "    for word in sent:\n",
    "        if word not in stopWords:\n",
    "            final_sent.append(word_lemmatizer.lemmatize(word))\n",
    "        \n",
    "        \n",
    "#POS : give pos tag for each word"
   ]
  },
  {
   "cell_type": "code",
   "execution_count": 37,
   "metadata": {},
   "outputs": [
    {
     "data": {
      "text/plain": [
       "['I', 'feel', 'good', 'today', '.', 'I', \"'m\", 'smiling', '.']"
      ]
     },
     "execution_count": 37,
     "metadata": {},
     "output_type": "execute_result"
    }
   ],
   "source": [
    "final_sent"
   ]
  },
  {
   "cell_type": "code",
   "execution_count": null,
   "metadata": {},
   "outputs": [],
   "source": []
  }
 ],
 "metadata": {
  "kernelspec": {
   "display_name": "Python 3",
   "language": "python",
   "name": "python3"
  },
  "language_info": {
   "codemirror_mode": {
    "name": "ipython",
    "version": 3
   },
   "file_extension": ".py",
   "mimetype": "text/x-python",
   "name": "python",
   "nbconvert_exporter": "python",
   "pygments_lexer": "ipython3",
   "version": "3.8.5"
  }
 },
 "nbformat": 4,
 "nbformat_minor": 4
}
